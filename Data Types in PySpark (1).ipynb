{
 "cells": [
  {
   "cell_type": "code",
   "execution_count": 0,
   "metadata": {
    "application/vnd.databricks.v1+cell": {
     "cellMetadata": {
      "byteLimit": 2048000,
      "rowLimit": 10000
     },
     "inputWidgets": {},
     "nuid": "ed890c9f-3716-47c6-9872-c01d01a792b5",
     "showTitle": false,
     "tableResultSettingsMap": {},
     "title": ""
    }
   },
   "outputs": [],
   "source": [
    "from pyspark.sql import SparkSession\n",
    "\n",
    "spark=SparkSession.builder\\\n",
    "    .appName(\"PySpark Data Handling\")\\\n",
    "    .getOrCreate()"
   ]
  },
  {
   "cell_type": "code",
   "execution_count": 0,
   "metadata": {
    "application/vnd.databricks.v1+cell": {
     "cellMetadata": {
      "byteLimit": 2048000,
      "rowLimit": 10000
     },
     "inputWidgets": {},
     "nuid": "8eb157e9-2504-4380-bc14-94de481af2d6",
     "showTitle": false,
     "tableResultSettingsMap": {},
     "title": ""
    }
   },
   "outputs": [
    {
     "output_type": "stream",
     "name": "stdout",
     "output_type": "stream",
     "text": [
      "+---+------------+---------+-----------+------+---------+\n| id|        name|     city|       date|amount|is_active|\n+---+------------+---------+-----------+------+---------+\n|  1|    John Doe|Bangalore| 2023-01-15|152.75|     True|\n|  2|  Jane Smith|    Delhi| 2023-05-20| 89.50|    False|\n|  3|Robert Brown|   Mumbai|InvalidDate|200.00|     True|\n|  4| Linda White|  Kolkata| 2023-02-29|  null|      yes|\n|  5|  Mike Green|  Chennai| 2023-08-10|   NaN|        1|\n|  6|  Sarah Blue|Hyderabad|InvalidDate|300.40|       No|\n+---+------------+---------+-----------+------+---------+\n\n"
     ]
    }
   ],
   "source": [
    "# Sample data\n",
    "\n",
    "data1=[\n",
    "    (1,\"John Doe\",\"Bangalore\",\"2023-01-15\",\"152.75\",\"True\"),\n",
    "    (2,\"Jane Smith\",\"Delhi\",\"2023-05-20\",\"89.50\",\"False\"),\n",
    "    (3,\"Robert Brown\",\"Mumbai\",\"InvalidDate\",\"200.00\",\"True\"),\n",
    "    (4,\"Linda White\",\"Kolkata\",\"2023-02-29\",None,\"yes\"),\n",
    "    (5,\"Mike Green\",\"Chennai\",\"2023-08-10\",\"NaN\",\"1\"),\n",
    "    (6,\"Sarah Blue\",\"Hyderabad\",\"InvalidDate\",\"300.40\",\"No\"),\n",
    "]\n",
    "\n",
    "columns=[\"id\",\"name\",\"city\",\"date\",\"amount\",\"is_active\"]\n",
    "\n",
    "df=spark.createDataFrame(data1,schema=columns)\n",
    "\n",
    "df.show()"
   ]
  },
  {
   "cell_type": "code",
   "execution_count": 0,
   "metadata": {
    "application/vnd.databricks.v1+cell": {
     "cellMetadata": {
      "byteLimit": 2048000,
      "rowLimit": 10000
     },
     "inputWidgets": {},
     "nuid": "21fe6503-0016-4525-8c1d-4fb2a56ad38a",
     "showTitle": false,
     "tableResultSettingsMap": {},
     "title": ""
    }
   },
   "outputs": [
    {
     "output_type": "stream",
     "name": "stdout",
     "output_type": "stream",
     "text": [
      "root\n |-- id: long (nullable = true)\n |-- name: string (nullable = true)\n |-- city: string (nullable = true)\n |-- date: string (nullable = true)\n |-- amount: string (nullable = true)\n |-- is_active: string (nullable = true)\n\n"
     ]
    }
   ],
   "source": [
    "df.printSchema()"
   ]
  },
  {
   "cell_type": "code",
   "execution_count": 0,
   "metadata": {
    "application/vnd.databricks.v1+cell": {
     "cellMetadata": {
      "byteLimit": 2048000,
      "rowLimit": 10000
     },
     "inputWidgets": {},
     "nuid": "432ab810-6006-4050-a044-27fa14451002",
     "showTitle": false,
     "tableResultSettingsMap": {},
     "title": ""
    }
   },
   "outputs": [
    {
     "output_type": "stream",
     "name": "stdout",
     "output_type": "stream",
     "text": [
      "+---+-----------+---------+-----------+------+---------+\n| id|       name|     city|       date|amount|is_active|\n+---+-----------+---------+-----------+------+---------+\n|  4|Linda White|  Kolkata| 2023-02-29|  null|      yes|\n|  5| Mike Green|  Chennai| 2023-08-10|   NaN|        1|\n|  6| Sarah Blue|Hyderabad|InvalidDate|300.40|       No|\n+---+-----------+---------+-----------+------+---------+\n\n"
     ]
    }
   ],
   "source": [
    "# handle Integer Column\n",
    "\n",
    "df.filter(df.id>3).show()"
   ]
  },
  {
   "cell_type": "code",
   "execution_count": 0,
   "metadata": {
    "application/vnd.databricks.v1+cell": {
     "cellMetadata": {
      "byteLimit": 2048000,
      "rowLimit": 10000
     },
     "inputWidgets": {},
     "nuid": "ac2d6b5f-8cd9-46c5-aca6-78b893f4ea9d",
     "showTitle": false,
     "tableResultSettingsMap": {},
     "title": ""
    }
   },
   "outputs": [
    {
     "output_type": "stream",
     "name": "stdout",
     "output_type": "stream",
     "text": [
      "+---+------------+---------+-----------+------+---------+---------+\n| id|        name|     city|       date|amount|is_active|id_double|\n+---+------------+---------+-----------+------+---------+---------+\n|  1|    John Doe|Bangalore| 2023-01-15|152.75|     True|        3|\n|  2|  Jane Smith|    Delhi| 2023-05-20| 89.50|    False|        4|\n|  3|Robert Brown|   Mumbai|InvalidDate|200.00|     True|        5|\n|  4| Linda White|  Kolkata| 2023-02-29|  null|      yes|        6|\n|  5|  Mike Green|  Chennai| 2023-08-10|   NaN|        1|        7|\n|  6|  Sarah Blue|Hyderabad|InvalidDate|300.40|       No|        8|\n+---+------------+---------+-----------+------+---------+---------+\n\n"
     ]
    }
   ],
   "source": [
    "df.withColumn('id_double',df.id+2).show()"
   ]
  },
  {
   "cell_type": "code",
   "execution_count": 0,
   "metadata": {
    "application/vnd.databricks.v1+cell": {
     "cellMetadata": {
      "byteLimit": 2048000,
      "rowLimit": 10000
     },
     "inputWidgets": {},
     "nuid": "d2dc5905-9ba7-49a2-a148-e5656801eb07",
     "showTitle": false,
     "tableResultSettingsMap": {},
     "title": ""
    }
   },
   "outputs": [],
   "source": [
    "from pyspark.sql.types import IntegerType\n",
    "from pyspark.sql.functions import col\n",
    "\n",
    "df=df.withColumn('id',col('id').cast(IntegerType()))"
   ]
  },
  {
   "cell_type": "code",
   "execution_count": 0,
   "metadata": {
    "application/vnd.databricks.v1+cell": {
     "cellMetadata": {
      "byteLimit": 2048000,
      "rowLimit": 10000
     },
     "inputWidgets": {},
     "nuid": "929fea5f-481a-4096-b32f-5fa21ef7c406",
     "showTitle": false,
     "tableResultSettingsMap": {},
     "title": ""
    }
   },
   "outputs": [
    {
     "output_type": "stream",
     "name": "stdout",
     "output_type": "stream",
     "text": [
      "+---+------------+---------+-----------+------+---------+\n| id|        name|     city|       date|amount|is_active|\n+---+------------+---------+-----------+------+---------+\n|  1|    John Doe|Bangalore| 2023-01-15|152.75|     True|\n|  2|  Jane Smith|    Delhi| 2023-05-20| 89.50|    False|\n|  3|Robert Brown|   Mumbai|InvalidDate|200.00|     True|\n|  4| Linda White|  Kolkata| 2023-02-29|  null|      yes|\n|  5|  Mike Green|  Chennai| 2023-08-10|   NaN|        1|\n|  6|  Sarah Blue|Hyderabad|InvalidDate|300.40|       No|\n+---+------------+---------+-----------+------+---------+\n\n"
     ]
    }
   ],
   "source": [
    "df.show()"
   ]
  },
  {
   "cell_type": "code",
   "execution_count": 0,
   "metadata": {
    "application/vnd.databricks.v1+cell": {
     "cellMetadata": {
      "byteLimit": 2048000,
      "rowLimit": 10000
     },
     "inputWidgets": {},
     "nuid": "29934b20-a548-4bcf-b200-9a7803f0ae72",
     "showTitle": false,
     "tableResultSettingsMap": {},
     "title": ""
    }
   },
   "outputs": [
    {
     "output_type": "stream",
     "name": "stdout",
     "output_type": "stream",
     "text": [
      "root\n |-- id: integer (nullable = true)\n |-- name: string (nullable = true)\n |-- city: string (nullable = true)\n |-- date: string (nullable = true)\n |-- amount: string (nullable = true)\n |-- is_active: string (nullable = true)\n\n"
     ]
    }
   ],
   "source": [
    "df.printSchema()"
   ]
  },
  {
   "cell_type": "code",
   "execution_count": 0,
   "metadata": {
    "application/vnd.databricks.v1+cell": {
     "cellMetadata": {
      "byteLimit": 2048000,
      "rowLimit": 10000
     },
     "inputWidgets": {},
     "nuid": "408371fe-21b2-4ff6-8f9b-c38bd5cde486",
     "showTitle": false,
     "tableResultSettingsMap": {},
     "title": ""
    }
   },
   "outputs": [
    {
     "output_type": "stream",
     "name": "stdout",
     "output_type": "stream",
     "text": [
      "+---+------------+---------+-----------+------+---------+------------+\n| id|        name|     city|       date|amount|is_active|  name_upper|\n+---+------------+---------+-----------+------+---------+------------+\n|  1|    John Doe|Bangalore| 2023-01-15|152.75|     True|    JOHN DOE|\n|  2|  Jane Smith|    Delhi| 2023-05-20| 89.50|    False|  JANE SMITH|\n|  3|Robert Brown|   Mumbai|InvalidDate|200.00|     True|ROBERT BROWN|\n|  4| Linda White|  Kolkata| 2023-02-29|  null|      yes| LINDA WHITE|\n|  5|  Mike Green|  Chennai| 2023-08-10|   NaN|        1|  MIKE GREEN|\n|  6|  Sarah Blue|Hyderabad|InvalidDate|300.40|       No|  SARAH BLUE|\n+---+------------+---------+-----------+------+---------+------------+\n\n"
     ]
    }
   ],
   "source": [
    "# String Columns\n",
    "\n",
    "from pyspark.sql.functions import *\n",
    "\n",
    "df=df.withColumn('name_upper',upper(df.name))\n",
    "df.show()"
   ]
  },
  {
   "cell_type": "code",
   "execution_count": 0,
   "metadata": {
    "application/vnd.databricks.v1+cell": {
     "cellMetadata": {
      "byteLimit": 2048000,
      "rowLimit": 10000
     },
     "inputWidgets": {},
     "nuid": "57854508-4734-4057-b40b-2d1f5ffe4d46",
     "showTitle": false,
     "tableResultSettingsMap": {},
     "title": ""
    }
   },
   "outputs": [
    {
     "output_type": "stream",
     "name": "stdout",
     "output_type": "stream",
     "text": [
      "+---+--------+---------+----------+------+---------+----------+\n| id|    name|     city|      date|amount|is_active|name_upper|\n+---+--------+---------+----------+------+---------+----------+\n|  1|John Doe|Bangalore|2023-01-15|152.75|     True|  JOHN DOE|\n+---+--------+---------+----------+------+---------+----------+\n\n"
     ]
    }
   ],
   "source": [
    "df.filter(df.city.startswith('B')).show()"
   ]
  },
  {
   "cell_type": "code",
   "execution_count": 0,
   "metadata": {
    "application/vnd.databricks.v1+cell": {
     "cellMetadata": {
      "byteLimit": 2048000,
      "rowLimit": 10000
     },
     "inputWidgets": {},
     "nuid": "06847643-6ef3-436a-8291-4beeecf33075",
     "showTitle": false,
     "tableResultSettingsMap": {},
     "title": ""
    }
   },
   "outputs": [
    {
     "output_type": "stream",
     "name": "stdout",
     "output_type": "stream",
     "text": [
      "+---+------------+---------+-----------+------+---------+------------+------------+\n| id|        name|     city|       date|amount|is_active|  name_upper|  name_lower|\n+---+------------+---------+-----------+------+---------+------------+------------+\n|  1|    John Doe|Bangalore| 2023-01-15|152.75|     True|    JOHN DOE|    john doe|\n|  2|  Jane Smith|    Delhi| 2023-05-20| 89.50|    False|  JANE SMITH|  jane smith|\n|  3|Robert Brown|   Mumbai|InvalidDate|200.00|     True|ROBERT BROWN|robert brown|\n|  4| Linda White|  Kolkata| 2023-02-29|  null|      yes| LINDA WHITE| linda white|\n|  5|  Mike Green|  Chennai| 2023-08-10|   NaN|        1|  MIKE GREEN|  mike green|\n|  6|  Sarah Blue|Hyderabad|InvalidDate|300.40|       No|  SARAH BLUE|  sarah blue|\n+---+------------+---------+-----------+------+---------+------------+------------+\n\n"
     ]
    }
   ],
   "source": [
    "\n",
    "\n",
    "from pyspark.sql.functions import *\n",
    "\n",
    "df=df.withColumn('name_lower',lower(df.name))\n",
    "df.show()"
   ]
  },
  {
   "cell_type": "code",
   "execution_count": 0,
   "metadata": {
    "application/vnd.databricks.v1+cell": {
     "cellMetadata": {
      "byteLimit": 2048000,
      "rowLimit": 10000
     },
     "inputWidgets": {},
     "nuid": "04dc4c1d-2d3b-4fa7-962d-2bfaa3b3a26c",
     "showTitle": false,
     "tableResultSettingsMap": {},
     "title": ""
    }
   },
   "outputs": [
    {
     "output_type": "stream",
     "name": "stdout",
     "output_type": "stream",
     "text": [
      "+---+------------+---------+-----------+------+---------+------------+------------+\n| id|        name|     city|       date|amount|is_active|  name_upper|  name_lower|\n+---+------------+---------+-----------+------+---------+------------+------------+\n|  1|    John Doe|Bangalore| 2023-01-15|152.75|     True|    JOHN DOE|    john doe|\n|  2|  Jane Smith|    Delhi| 2023-05-20|  89.5|    False|  JANE SMITH|  jane smith|\n|  3|Robert Brown|   Mumbai|InvalidDate| 200.0|     True|ROBERT BROWN|robert brown|\n|  4| Linda White|  Kolkata| 2023-02-29|  null|      yes| LINDA WHITE| linda white|\n|  5|  Mike Green|  Chennai| 2023-08-10|   NaN|        1|  MIKE GREEN|  mike green|\n|  6|  Sarah Blue|Hyderabad|InvalidDate| 300.4|       No|  SARAH BLUE|  sarah blue|\n+---+------------+---------+-----------+------+---------+------------+------------+\n\n"
     ]
    }
   ],
   "source": [
    "df=df.withColumn('amount',col('amount').cast('float'))\n",
    "df.show()"
   ]
  },
  {
   "cell_type": "code",
   "execution_count": 0,
   "metadata": {
    "application/vnd.databricks.v1+cell": {
     "cellMetadata": {
      "byteLimit": 2048000,
      "rowLimit": 10000
     },
     "inputWidgets": {},
     "nuid": "9807caed-e7f0-4733-806f-0874e977bf11",
     "showTitle": false,
     "tableResultSettingsMap": {},
     "title": ""
    }
   },
   "outputs": [
    {
     "output_type": "stream",
     "name": "stdout",
     "output_type": "stream",
     "text": [
      "root\n |-- id: integer (nullable = true)\n |-- name: string (nullable = true)\n |-- city: string (nullable = true)\n |-- date: string (nullable = true)\n |-- amount: float (nullable = true)\n |-- is_active: string (nullable = true)\n |-- name_upper: string (nullable = true)\n |-- name_lower: string (nullable = true)\n\n"
     ]
    }
   ],
   "source": [
    "df.printSchema()"
   ]
  },
  {
   "cell_type": "code",
   "execution_count": 0,
   "metadata": {
    "application/vnd.databricks.v1+cell": {
     "cellMetadata": {
      "byteLimit": 2048000,
      "rowLimit": 10000
     },
     "inputWidgets": {},
     "nuid": "6ded7486-8a56-409d-ba5e-53d17e1c4042",
     "showTitle": false,
     "tableResultSettingsMap": {},
     "title": ""
    }
   },
   "outputs": [
    {
     "output_type": "stream",
     "name": "stdout",
     "output_type": "stream",
     "text": [
      "+---+------------+---------+-----------+------+---------+------------+------------+\n| id|        name|     city|       date|amount|is_active|  name_upper|  name_lower|\n+---+------------+---------+-----------+------+---------+------------+------------+\n|  1|    John Doe|Bangalore| 2023-01-15|152.75|     True|    JOHN DOE|    john doe|\n|  2|  Jane Smith|    Delhi| 2023-05-20|  89.5|    False|  JANE SMITH|  jane smith|\n|  3|Robert Brown|   Mumbai|InvalidDate| 200.0|     True|ROBERT BROWN|robert brown|\n|  4| Linda White|  Kolkata| 2023-02-29|   0.0|      yes| LINDA WHITE| linda white|\n|  5|  Mike Green|  Chennai| 2023-08-10|   0.0|        1|  MIKE GREEN|  mike green|\n|  6|  Sarah Blue|Hyderabad|InvalidDate| 300.4|       No|  SARAH BLUE|  sarah blue|\n+---+------------+---------+-----------+------+---------+------------+------------+\n\n"
     ]
    }
   ],
   "source": [
    "df_filled=df.fillna({'amount':0})\n",
    "df_filled.show()"
   ]
  },
  {
   "cell_type": "code",
   "execution_count": 0,
   "metadata": {
    "application/vnd.databricks.v1+cell": {
     "cellMetadata": {
      "byteLimit": 2048000,
      "rowLimit": 10000
     },
     "inputWidgets": {},
     "nuid": "2cdcfc8a-0f1f-41f4-a3b4-f625787ff63e",
     "showTitle": false,
     "tableResultSettingsMap": {},
     "title": ""
    }
   },
   "outputs": [],
   "source": [
    "# Handle Date Column\n",
    "\n",
    "csv_data=\"\"\" id,date_iso,data_dmy,\n",
    "\n",
    "\"\"\"\n"
   ]
  },
  {
   "cell_type": "code",
   "execution_count": 0,
   "metadata": {
    "application/vnd.databricks.v1+cell": {
     "cellMetadata": {},
     "inputWidgets": {},
     "nuid": "0412392d-b928-40d2-92b5-75b787b3ffa3",
     "showTitle": false,
     "tableResultSettingsMap": {},
     "title": ""
    }
   },
   "outputs": [],
   "source": []
  }
 ],
 "metadata": {
  "application/vnd.databricks.v1+notebook": {
   "computePreferences": null,
   "dashboards": [],
   "environmentMetadata": {
    "base_environment": "",
    "environment_version": "1"
   },
   "inputWidgetPreferences": null,
   "language": "python",
   "notebookMetadata": {
    "pythonIndentUnit": 4
   },
   "notebookName": "Data Types in PySpark",
   "widgets": {}
  }
 },
 "nbformat": 4,
 "nbformat_minor": 0
}