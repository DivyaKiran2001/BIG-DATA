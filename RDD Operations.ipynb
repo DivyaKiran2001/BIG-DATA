{
 "cells": [
  {
   "cell_type": "code",
   "execution_count": 0,
   "metadata": {
    "application/vnd.databricks.v1+cell": {
     "cellMetadata": {
      "byteLimit": 2048000,
      "rowLimit": 10000
     },
     "inputWidgets": {},
     "nuid": "3be377c5-38ef-4baa-ad60-19cf26cb1602",
     "showTitle": false,
     "tableResultSettingsMap": {},
     "title": ""
    }
   },
   "outputs": [],
   "source": [
    "from pyspark.sql import SparkSession"
   ]
  },
  {
   "cell_type": "code",
   "execution_count": 0,
   "metadata": {
    "application/vnd.databricks.v1+cell": {
     "cellMetadata": {
      "byteLimit": 2048000,
      "rowLimit": 10000
     },
     "inputWidgets": {},
     "nuid": "d19f1bf5-e527-4a33-bca6-47244c5e58f0",
     "showTitle": false,
     "tableResultSettingsMap": {},
     "title": ""
    }
   },
   "outputs": [],
   "source": [
    "spark=SparkSession.builder.appName(\"RDD_Operations\").master(\"yarn\").getOrCreate()"
   ]
  },
  {
   "cell_type": "code",
   "execution_count": 0,
   "metadata": {
    "application/vnd.databricks.v1+cell": {
     "cellMetadata": {
      "byteLimit": 2048000,
      "rowLimit": 10000
     },
     "inputWidgets": {},
     "nuid": "d30bd3de-3543-42f2-a56e-c68722b0ffb1",
     "showTitle": false,
     "tableResultSettingsMap": {},
     "title": ""
    }
   },
   "outputs": [],
   "source": [
    "customers_data = [\n",
    "\"customer_id,name,city,state,country,registration_date,is_active\",\n",
    "\"0,Customer_0,Bangalore,Karnataka,India,2023-11-11,True\",\n",
    "\"1,Customer_1,Hyderabad,Delhi,India,2023-08-26,True\",\n",
    "\"2,Customer_2,Ahmedabad,West Bengal,India,2023-06-23,True\",\n",
    "\"3,Customer_3,Bangalore,Tamil Nadu,India,2023-03-24,False\",\n",
    "\"4,Customer_4,Bangalore,Gujarat,India,2023-06-06,False\",\n",
    "\"5,Customer_5,Delhi,Maharashtra,India,2023-04-19,False\"]"
   ]
  },
  {
   "cell_type": "code",
   "execution_count": 0,
   "metadata": {
    "application/vnd.databricks.v1+cell": {
     "cellMetadata": {
      "byteLimit": 2048000,
      "rowLimit": 10000
     },
     "inputWidgets": {},
     "nuid": "de7bc5e5-4757-45f0-ab94-9908ea9445dc",
     "showTitle": false,
     "tableResultSettingsMap": {},
     "title": ""
    }
   },
   "outputs": [],
   "source": [
    "data_rdd = spark.sparkContext.parallelize(customers_data)"
   ]
  },
  {
   "cell_type": "code",
   "execution_count": 0,
   "metadata": {
    "application/vnd.databricks.v1+cell": {
     "cellMetadata": {
      "byteLimit": 2048000,
      "rowLimit": 10000
     },
     "inputWidgets": {},
     "nuid": "52db0561-d096-4fc0-874c-d249819e6f6b",
     "showTitle": false,
     "tableResultSettingsMap": {},
     "title": ""
    }
   },
   "outputs": [
    {
     "output_type": "stream",
     "name": "stdout",
     "output_type": "stream",
     "text": [
      "Out[5]: ['customer_id,name,city,state,country,registration_date,is_active',\n '0,Customer_0,Bangalore,Karnataka,India,2023-11-11,True',\n '1,Customer_1,Hyderabad,Delhi,India,2023-08-26,True',\n '2,Customer_2,Ahmedabad,West Bengal,India,2023-06-23,True',\n '3,Customer_3,Bangalore,Tamil Nadu,India,2023-03-24,False',\n '4,Customer_4,Bangalore,Gujarat,India,2023-06-06,False',\n '5,Customer_5,Delhi,Maharashtra,India,2023-04-19,False']"
     ]
    }
   ],
   "source": [
    "\n",
    "data_rdd.collect()"
   ]
  },
  {
   "cell_type": "code",
   "execution_count": 0,
   "metadata": {
    "application/vnd.databricks.v1+cell": {
     "cellMetadata": {
      "byteLimit": 2048000,
      "rowLimit": 10000
     },
     "inputWidgets": {},
     "nuid": "dc3b3269-d678-44e2-b65d-377d085bb212",
     "showTitle": false,
     "tableResultSettingsMap": {},
     "title": ""
    }
   },
   "outputs": [
    {
     "output_type": "display_data",
     "data": {
      "text/html": [
       "\n",
       "            <div>\n",
       "                <p><b>SparkSession - hive</b></p>\n",
       "                \n",
       "        <div>\n",
       "            <p><b>SparkContext</b></p>\n",
       "\n",
       "            <p><a href=\"/?o=3687678260021482#setting/sparkui/0409-085340-t07kfipn/driver-5940371869961978086\">Spark UI</a></p>\n",
       "\n",
       "            <dl>\n",
       "              <dt>Version</dt>\n",
       "                <dd><code>v3.3.2</code></dd>\n",
       "              <dt>Master</dt>\n",
       "                <dd><code>local[8]</code></dd>\n",
       "              <dt>AppName</dt>\n",
       "                <dd><code>Databricks Shell</code></dd>\n",
       "            </dl>\n",
       "        </div>\n",
       "        \n",
       "            </div>\n",
       "        "
      ]
     },
     "metadata": {
      "application/vnd.databricks.v1+output": {
       "addedWidgets": {},
       "arguments": {},
       "data": "\n            <div>\n                <p><b>SparkSession - hive</b></p>\n                \n        <div>\n            <p><b>SparkContext</b></p>\n\n            <p><a href=\"/?o=3687678260021482#setting/sparkui/0409-085340-t07kfipn/driver-5940371869961978086\">Spark UI</a></p>\n\n            <dl>\n              <dt>Version</dt>\n                <dd><code>v3.3.2</code></dd>\n              <dt>Master</dt>\n                <dd><code>local[8]</code></dd>\n              <dt>AppName</dt>\n                <dd><code>Databricks Shell</code></dd>\n            </dl>\n        </div>\n        \n            </div>\n        ",
       "datasetInfos": [],
       "metadata": {},
       "removedWidgets": [],
       "textData": null,
       "type": "htmlSandbox"
      }
     },
     "output_type": "display_data"
    }
   ],
   "source": [
    "spark"
   ]
  },
  {
   "cell_type": "code",
   "execution_count": 0,
   "metadata": {
    "application/vnd.databricks.v1+cell": {
     "cellMetadata": {
      "byteLimit": 2048000,
      "rowLimit": 10000
     },
     "inputWidgets": {},
     "nuid": "d58c17b4-2ea8-4252-ad35-41396ce28fad",
     "showTitle": false,
     "tableResultSettingsMap": {},
     "title": ""
    }
   },
   "outputs": [
    {
     "output_type": "stream",
     "name": "stdout",
     "output_type": "stream",
     "text": [
      "Out[7]: 8"
     ]
    }
   ],
   "source": [
    "data_rdd.getNumPartitions()"
   ]
  },
  {
   "cell_type": "code",
   "execution_count": 0,
   "metadata": {
    "application/vnd.databricks.v1+cell": {
     "cellMetadata": {
      "byteLimit": 2048000,
      "rowLimit": 10000
     },
     "inputWidgets": {},
     "nuid": "25fc649b-7af4-453d-b2d2-183ac12613ac",
     "showTitle": false,
     "tableResultSettingsMap": {},
     "title": ""
    }
   },
   "outputs": [],
   "source": [
    "# first\n",
    "header=data_rdd.first()"
   ]
  },
  {
   "cell_type": "code",
   "execution_count": 0,
   "metadata": {
    "application/vnd.databricks.v1+cell": {
     "cellMetadata": {
      "byteLimit": 2048000,
      "rowLimit": 10000
     },
     "inputWidgets": {},
     "nuid": "e6b332a6-3abd-4a30-bd36-014652ebc156",
     "showTitle": false,
     "tableResultSettingsMap": {},
     "title": ""
    }
   },
   "outputs": [
    {
     "output_type": "stream",
     "name": "stdout",
     "output_type": "stream",
     "text": [
      "customer_id,name,city,state,country,registration_date,is_active\n"
     ]
    }
   ],
   "source": [
    "print(header)"
   ]
  },
  {
   "cell_type": "code",
   "execution_count": 0,
   "metadata": {
    "application/vnd.databricks.v1+cell": {
     "cellMetadata": {
      "byteLimit": 2048000,
      "rowLimit": 10000
     },
     "inputWidgets": {},
     "nuid": "db5248ca-8fe5-46f5-a986-b30cc9b9be12",
     "showTitle": false,
     "tableResultSettingsMap": {},
     "title": ""
    }
   },
   "outputs": [],
   "source": [
    "# filter\n",
    "\n",
    "data_rdd=data_rdd.filter(lambda row:row!=header)"
   ]
  },
  {
   "cell_type": "code",
   "execution_count": 0,
   "metadata": {
    "application/vnd.databricks.v1+cell": {
     "cellMetadata": {
      "byteLimit": 2048000,
      "rowLimit": 10000
     },
     "inputWidgets": {},
     "nuid": "7951e6d3-35e8-4e6c-86ea-5f357745ebd8",
     "showTitle": false,
     "tableResultSettingsMap": {},
     "title": ""
    }
   },
   "outputs": [
    {
     "output_type": "stream",
     "name": "stdout",
     "output_type": "stream",
     "text": [
      "['0,Customer_0,Bangalore,Karnataka,India,2023-11-11,True', '1,Customer_1,Hyderabad,Delhi,India,2023-08-26,True', '2,Customer_2,Ahmedabad,West Bengal,India,2023-06-23,True', '3,Customer_3,Bangalore,Tamil Nadu,India,2023-03-24,False', '4,Customer_4,Bangalore,Gujarat,India,2023-06-06,False', '5,Customer_5,Delhi,Maharashtra,India,2023-04-19,False']\n"
     ]
    }
   ],
   "source": [
    "print(data_rdd.collect())"
   ]
  },
  {
   "cell_type": "code",
   "execution_count": 0,
   "metadata": {
    "application/vnd.databricks.v1+cell": {
     "cellMetadata": {
      "byteLimit": 2048000,
      "rowLimit": 10000
     },
     "inputWidgets": {},
     "nuid": "4ddc386f-89dc-4d78-b279-55eed75a00df",
     "showTitle": false,
     "tableResultSettingsMap": {},
     "title": ""
    }
   },
   "outputs": [
    {
     "output_type": "stream",
     "name": "stdout",
     "output_type": "stream",
     "text": [
      "['0', 'Customer_0', 'Bangalore', 'Karnataka', 'India', '2023-11-11', 'True']\n"
     ]
    }
   ],
   "source": [
    "# Map\n",
    "\n",
    "test_data='0,Customer_0,Bangalore,Karnataka,India,2023-11-11,True'\n",
    "print(test_data.split(','))"
   ]
  },
  {
   "cell_type": "code",
   "execution_count": 0,
   "metadata": {
    "application/vnd.databricks.v1+cell": {
     "cellMetadata": {
      "byteLimit": 2048000,
      "rowLimit": 10000
     },
     "inputWidgets": {},
     "nuid": "241bbee7-ce34-43b5-aa6f-08e156300cc3",
     "showTitle": false,
     "tableResultSettingsMap": {},
     "title": ""
    }
   },
   "outputs": [],
   "source": [
    "def parse_data(row):\n",
    "    fields=row.split(',')\n",
    "    return (\n",
    "        int(fields[0]),\n",
    "        fields[1],\n",
    "        fields[2],\n",
    "        fields[3],\n",
    "        fields[4],\n",
    "        fields[5],\n",
    "        fields[6] == 'True'\n",
    "\n",
    "    )"
   ]
  },
  {
   "cell_type": "code",
   "execution_count": 0,
   "metadata": {
    "application/vnd.databricks.v1+cell": {
     "cellMetadata": {
      "byteLimit": 2048000,
      "rowLimit": 10000
     },
     "inputWidgets": {},
     "nuid": "c89669db-cd39-4399-981d-2afe36358aa9",
     "showTitle": false,
     "tableResultSettingsMap": {},
     "title": ""
    }
   },
   "outputs": [],
   "source": [
    "parsed_rdd=data_rdd.map(parse_data)"
   ]
  },
  {
   "cell_type": "code",
   "execution_count": 0,
   "metadata": {
    "application/vnd.databricks.v1+cell": {
     "cellMetadata": {
      "byteLimit": 2048000,
      "rowLimit": 10000
     },
     "inputWidgets": {},
     "nuid": "79e6d7ec-83db-4a3e-87e2-4a42ca4ac909",
     "showTitle": false,
     "tableResultSettingsMap": {},
     "title": ""
    }
   },
   "outputs": [
    {
     "output_type": "stream",
     "name": "stdout",
     "output_type": "stream",
     "text": [
      "Out[15]: [(0, 'Customer_0', 'Bangalore', 'Karnataka', 'India', '2023-11-11', True),\n (1, 'Customer_1', 'Hyderabad', 'Delhi', 'India', '2023-08-26', True),\n (2, 'Customer_2', 'Ahmedabad', 'West Bengal', 'India', '2023-06-23', True),\n (3, 'Customer_3', 'Bangalore', 'Tamil Nadu', 'India', '2023-03-24', False),\n (4, 'Customer_4', 'Bangalore', 'Gujarat', 'India', '2023-06-06', False),\n (5, 'Customer_5', 'Delhi', 'Maharashtra', 'India', '2023-04-19', False)]"
     ]
    }
   ],
   "source": [
    "parsed_rdd.collect()"
   ]
  },
  {
   "cell_type": "code",
   "execution_count": 0,
   "metadata": {
    "application/vnd.databricks.v1+cell": {
     "cellMetadata": {
      "byteLimit": 2048000,
      "rowLimit": 10000
     },
     "inputWidgets": {},
     "nuid": "65951c17-7701-480b-8ade-8063edda77d8",
     "showTitle": false,
     "tableResultSettingsMap": {},
     "title": ""
    }
   },
   "outputs": [
    {
     "output_type": "stream",
     "name": "stdout",
     "output_type": "stream",
     "text": [
      "Out[16]: [('Customer_0', 'Bangalore'),\n ('Customer_1', 'Hyderabad'),\n ('Customer_2', 'Ahmedabad'),\n ('Customer_3', 'Bangalore'),\n ('Customer_4', 'Bangalore'),\n ('Customer_5', 'Delhi')]"
     ]
    }
   ],
   "source": [
    "name_city_rdd=parsed_rdd.map(lambda row:(row[1],row[2]))\n",
    "name_city_rdd.collect()"
   ]
  },
  {
   "cell_type": "code",
   "execution_count": 0,
   "metadata": {
    "application/vnd.databricks.v1+cell": {
     "cellMetadata": {
      "byteLimit": 2048000,
      "rowLimit": 10000
     },
     "inputWidgets": {},
     "nuid": "edbcaff7-8285-4087-b73a-b55d5585305e",
     "showTitle": false,
     "tableResultSettingsMap": {},
     "title": ""
    }
   },
   "outputs": [],
   "source": [
    "cities_rdd=parsed_rdd.map(lambda row: row[2]).distinct()"
   ]
  },
  {
   "cell_type": "code",
   "execution_count": 0,
   "metadata": {
    "application/vnd.databricks.v1+cell": {
     "cellMetadata": {
      "byteLimit": 2048000,
      "rowLimit": 10000
     },
     "inputWidgets": {},
     "nuid": "8370e37e-1bcd-4b93-9387-abc119d8abe1",
     "showTitle": false,
     "tableResultSettingsMap": {},
     "title": ""
    }
   },
   "outputs": [
    {
     "output_type": "stream",
     "name": "stdout",
     "output_type": "stream",
     "text": [
      "Out[19]: ['Bangalore', 'Delhi', 'Hyderabad']"
     ]
    }
   ],
   "source": [
    "cities_rdd.take(3)"
   ]
  },
  {
   "cell_type": "code",
   "execution_count": 0,
   "metadata": {
    "application/vnd.databricks.v1+cell": {
     "cellMetadata": {
      "byteLimit": 2048000,
      "rowLimit": 10000
     },
     "inputWidgets": {},
     "nuid": "2c3b33a8-d502-4c07-8273-bd70c5e0d097",
     "showTitle": false,
     "tableResultSettingsMap": {},
     "title": ""
    }
   },
   "outputs": [],
   "source": [
    "## ReduceByKey\n",
    "\n",
    "customers_rdd=parsed_rdd.map(lambda row:(row[2],1)).reduceByKey(lambda x,y:x+y)"
   ]
  },
  {
   "cell_type": "code",
   "execution_count": 0,
   "metadata": {
    "application/vnd.databricks.v1+cell": {
     "cellMetadata": {
      "byteLimit": 2048000,
      "rowLimit": 10000
     },
     "inputWidgets": {},
     "nuid": "26b22e8e-ed39-4565-9911-f6fd4db2276f",
     "showTitle": false,
     "tableResultSettingsMap": {},
     "title": ""
    }
   },
   "outputs": [
    {
     "output_type": "stream",
     "name": "stdout",
     "output_type": "stream",
     "text": [
      "[('Bangalore', 3), ('Delhi', 1), ('Hyderabad', 1), ('Ahmedabad', 1)]\n"
     ]
    }
   ],
   "source": [
    "print(customers_rdd.collect())"
   ]
  },
  {
   "cell_type": "code",
   "execution_count": 0,
   "metadata": {
    "application/vnd.databricks.v1+cell": {
     "cellMetadata": {
      "byteLimit": 2048000,
      "rowLimit": 10000
     },
     "inputWidgets": {},
     "nuid": "e2ac9ac1-e82f-4589-a9e9-fe3ccaf63cd9",
     "showTitle": false,
     "tableResultSettingsMap": {},
     "title": ""
    }
   },
   "outputs": [
    {
     "output_type": "stream",
     "name": "stdout",
     "output_type": "stream",
     "text": [
      "Out[22]: defaultdict(int, {'Bangalore': 3, 'Hyderabad': 1, 'Ahmedabad': 1, 'Delhi': 1})"
     ]
    }
   ],
   "source": [
    "parsed_rdd.map(lambda row:row[2]).countByValue()"
   ]
  },
  {
   "cell_type": "code",
   "execution_count": 0,
   "metadata": {
    "application/vnd.databricks.v1+cell": {
     "cellMetadata": {
      "byteLimit": 2048000,
      "rowLimit": 10000
     },
     "inputWidgets": {},
     "nuid": "9be5cb10-ce2b-4fe8-8569-c4fa4d91b405",
     "showTitle": false,
     "tableResultSettingsMap": {},
     "title": ""
    }
   },
   "outputs": [
    {
     "output_type": "stream",
     "name": "stdout",
     "output_type": "stream",
     "text": [
      "Out[23]: PythonRDD[49] at RDD at PythonRDD.scala:58"
     ]
    }
   ],
   "source": [
    "parsed_rdd.map(lambda row:(row[2],1)).reduceByKey(lambda x,y:x+y)"
   ]
  },
  {
   "cell_type": "code",
   "execution_count": 0,
   "metadata": {
    "application/vnd.databricks.v1+cell": {
     "cellMetadata": {
      "byteLimit": 2048000,
      "rowLimit": 10000
     },
     "inputWidgets": {},
     "nuid": "420f8a90-7057-42de-8972-b1b2713fbec8",
     "showTitle": false,
     "tableResultSettingsMap": {},
     "title": ""
    }
   },
   "outputs": [],
   "source": [
    "## Find cities with active customer\n",
    "\n",
    "active_cities=parsed_rdd.filter(lambda row:row[6]== True).map(lambda row:row[2]).distinct()"
   ]
  },
  {
   "cell_type": "code",
   "execution_count": 0,
   "metadata": {
    "application/vnd.databricks.v1+cell": {
     "cellMetadata": {
      "byteLimit": 2048000,
      "rowLimit": 10000
     },
     "inputWidgets": {},
     "nuid": "67f4e62c-4469-4ffa-a082-3be61abf1aa7",
     "showTitle": false,
     "tableResultSettingsMap": {},
     "title": ""
    }
   },
   "outputs": [
    {
     "output_type": "stream",
     "name": "stdout",
     "output_type": "stream",
     "text": [
      "Out[25]: ['Bangalore', 'Hyderabad', 'Ahmedabad']"
     ]
    }
   ],
   "source": [
    "active_cities.collect()"
   ]
  },
  {
   "cell_type": "code",
   "execution_count": 0,
   "metadata": {
    "application/vnd.databricks.v1+cell": {
     "cellMetadata": {
      "byteLimit": 2048000,
      "rowLimit": 10000
     },
     "inputWidgets": {},
     "nuid": "ac681088-9c68-4267-9ebd-f3209745be49",
     "showTitle": false,
     "tableResultSettingsMap": {},
     "title": ""
    }
   },
   "outputs": [
    {
     "output_type": "stream",
     "name": "stdout",
     "output_type": "stream",
     "text": [
      "Out[5]: ['customer_id,name,city,state,country,registration_date,is_active',\n '0,Customer_0,Pune,West Bengal,India,2023-10-10,True',\n '1,Customer_1,Bangalore,Gujarat,India,2023-10-19,False',\n '2,Customer_2,Bangalore,Karnataka,India,2023-02-10,True',\n '3,Customer_3,Bangalore,Telangana,India,2023-03-24,True']"
     ]
    }
   ],
   "source": [
    "file_path = \"/FileStore/tables/customers.csv\"\n",
    "\n",
    "# Read as RDD (line by line, just like HDFS textFile)\n",
    "rdd = spark.sparkContext.textFile(file_path)\n",
    "\n",
    "# Show a few lines\n",
    "rdd.take(5)\n"
   ]
  },
  {
   "cell_type": "code",
   "execution_count": 0,
   "metadata": {
    "application/vnd.databricks.v1+cell": {
     "cellMetadata": {
      "byteLimit": 2048000,
      "rowLimit": 10000
     },
     "inputWidgets": {},
     "nuid": "f981cbc3-e628-4cdb-b519-fa90fa279f7f",
     "showTitle": false,
     "tableResultSettingsMap": {},
     "title": ""
    }
   },
   "outputs": [],
   "source": [
    "header=rdd.first()\n"
   ]
  },
  {
   "cell_type": "code",
   "execution_count": 0,
   "metadata": {
    "application/vnd.databricks.v1+cell": {
     "cellMetadata": {
      "byteLimit": 2048000,
      "rowLimit": 10000
     },
     "inputWidgets": {},
     "nuid": "91769b80-bd24-48ba-878a-120adf360ca6",
     "showTitle": false,
     "tableResultSettingsMap": {},
     "title": ""
    }
   },
   "outputs": [],
   "source": [
    "rdd_no_header=rdd.filter(lambda row:row!=header).map(lambda row:row.split(','))"
   ]
  },
  {
   "cell_type": "code",
   "execution_count": 0,
   "metadata": {
    "application/vnd.databricks.v1+cell": {
     "cellMetadata": {
      "byteLimit": 2048000,
      "rowLimit": 10000
     },
     "inputWidgets": {},
     "nuid": "61e58a46-7a73-4f31-bb06-f2874e4e752f",
     "showTitle": false,
     "tableResultSettingsMap": {},
     "title": ""
    }
   },
   "outputs": [
    {
     "output_type": "stream",
     "name": "stdout",
     "output_type": "stream",
     "text": [
      "Out[8]: ['0', 'Customer_0', 'Pune', 'West Bengal', 'India', '2023-10-10', 'True']"
     ]
    }
   ],
   "source": [
    "rdd_no_header.first()"
   ]
  },
  {
   "cell_type": "code",
   "execution_count": 0,
   "metadata": {
    "application/vnd.databricks.v1+cell": {
     "cellMetadata": {
      "byteLimit": 2048000,
      "rowLimit": 10000
     },
     "inputWidgets": {},
     "nuid": "7ed204c3-6021-4f1e-8302-9204c81404af",
     "showTitle": false,
     "tableResultSettingsMap": {},
     "title": ""
    }
   },
   "outputs": [
    {
     "output_type": "stream",
     "name": "stdout",
     "output_type": "stream",
     "text": [
      "Out[10]: [('Chennai', 21046),\n ('Mumbai', 21041),\n ('Pune', 21481),\n ('Bangalore', 21272),\n ('Hyderabad', 21174),\n ('Ahmedabad', 21272),\n ('Delhi', 21123),\n ('Kolkata', 21264)]"
     ]
    }
   ],
   "source": [
    "reduced_rdd=rdd_no_header.map(lambda row:(row[2],1)).reduceByKey(lambda x,y:x+y)\n",
    "reduced_rdd.collect()"
   ]
  },
  {
   "cell_type": "code",
   "execution_count": 0,
   "metadata": {
    "application/vnd.databricks.v1+cell": {
     "cellMetadata": {
      "byteLimit": 2048000,
      "rowLimit": 10000
     },
     "inputWidgets": {},
     "nuid": "ed519927-eaba-4dda-ab97-e6ecb1c605a2",
     "showTitle": false,
     "tableResultSettingsMap": {},
     "title": ""
    }
   },
   "outputs": [
    {
     "output_type": "stream",
     "name": "stdout",
     "output_type": "stream",
     "text": [
      "Out[11]: [('Chennai', <pyspark.resultiterable.ResultIterable at 0x731a898fae80>),\n ('Mumbai', <pyspark.resultiterable.ResultIterable at 0x731a898fa730>),\n ('Pune', <pyspark.resultiterable.ResultIterable at 0x731a898fa5b0>),\n ('Bangalore', <pyspark.resultiterable.ResultIterable at 0x731a898fa7f0>),\n ('Hyderabad', <pyspark.resultiterable.ResultIterable at 0x731a898fafa0>),\n ('Ahmedabad', <pyspark.resultiterable.ResultIterable at 0x731a898fa670>),\n ('Delhi', <pyspark.resultiterable.ResultIterable at 0x731a898fafd0>),\n ('Kolkata', <pyspark.resultiterable.ResultIterable at 0x731a8a0e8ee0>)]"
     ]
    }
   ],
   "source": [
    " grouped_by_rdd = rdd_no_header.map(lambda row:(row[2],1)).groupByKey()\n",
    " grouped_by_rdd.collect()"
   ]
  },
  {
   "cell_type": "code",
   "execution_count": 0,
   "metadata": {
    "application/vnd.databricks.v1+cell": {
     "cellMetadata": {
      "byteLimit": 2048000,
      "rowLimit": 10000
     },
     "inputWidgets": {},
     "nuid": "86cfe842-fbef-4706-8fa0-abb685e56862",
     "showTitle": false,
     "tableResultSettingsMap": {},
     "title": ""
    }
   },
   "outputs": [
    {
     "output_type": "stream",
     "name": "stdout",
     "output_type": "stream",
     "text": [
      "Out[12]: [('Chennai', 21046),\n ('Mumbai', 21041),\n ('Pune', 21481),\n ('Bangalore', 21272),\n ('Hyderabad', 21174),\n ('Ahmedabad', 21272),\n ('Delhi', 21123),\n ('Kolkata', 21264)]"
     ]
    }
   ],
   "source": [
    "grouped_by_result = grouped_by_rdd.map(lambda row:(row[0],len(row[1])))\n",
    "grouped_by_result.collect()"
   ]
  },
  {
   "cell_type": "code",
   "execution_count": 0,
   "metadata": {
    "application/vnd.databricks.v1+cell": {
     "cellMetadata": {},
     "inputWidgets": {},
     "nuid": "2cfa524a-842c-471b-bd1c-99439203592b",
     "showTitle": false,
     "tableResultSettingsMap": {},
     "title": ""
    }
   },
   "outputs": [],
   "source": []
  }
 ],
 "metadata": {
  "application/vnd.databricks.v1+notebook": {
   "computePreferences": null,
   "dashboards": [],
   "environmentMetadata": {
    "base_environment": "",
    "environment_version": "1"
   },
   "inputWidgetPreferences": null,
   "language": "python",
   "notebookMetadata": {
    "pythonIndentUnit": 4
   },
   "notebookName": "RDD Operations",
   "widgets": {}
  }
 },
 "nbformat": 4,
 "nbformat_minor": 0
}