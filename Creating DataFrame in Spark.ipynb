{
 "cells": [
  {
   "cell_type": "code",
   "execution_count": 0,
   "metadata": {
    "application/vnd.databricks.v1+cell": {
     "cellMetadata": {
      "byteLimit": 2048000,
      "rowLimit": 10000
     },
     "inputWidgets": {},
     "nuid": "6fd7a02d-00c8-42d3-81f5-30da5246fd59",
     "showTitle": false,
     "tableResultSettingsMap": {},
     "title": ""
    }
   },
   "outputs": [],
   "source": [
    "from pyspark.sql import SparkSession\n",
    "\n",
    "spark=SparkSession.builder \\\n",
    "    .appName('Creating Dataframe') \\\n",
    "    .enableHiveSupport() \\\n",
    "    .getOrCreate()"
   ]
  },
  {
   "cell_type": "code",
   "execution_count": 0,
   "metadata": {
    "application/vnd.databricks.v1+cell": {
     "cellMetadata": {
      "byteLimit": 2048000,
      "rowLimit": 10000
     },
     "inputWidgets": {},
     "nuid": "db8f764a-494d-4804-96e3-0a9575a067ad",
     "showTitle": false,
     "tableResultSettingsMap": {},
     "title": ""
    }
   },
   "outputs": [],
   "source": [
    "data=[\n",
    "    (1,\"Alice\",\"Mumbai\",\"2023-01-15\",True),\n",
    "    (2,\"Bob\",\"Delhi\",\"2023-03-25\",False),\n",
    "    (3,\"Charlie\",\"Chennai\",\"2023-05-10\",True)\n",
    "]\n",
    "\n",
    "columns=[\"customer_id\",\"name\",\"city\",\"registration_date\",\"is_active\"]\n",
    "\n"
   ]
  },
  {
   "cell_type": "code",
   "execution_count": 0,
   "metadata": {
    "application/vnd.databricks.v1+cell": {
     "cellMetadata": {
      "byteLimit": 2048000,
      "rowLimit": 10000
     },
     "inputWidgets": {},
     "nuid": "0ff7dcba-7232-4afe-8196-b6130d24c04b",
     "showTitle": false,
     "tableResultSettingsMap": {},
     "title": ""
    }
   },
   "outputs": [],
   "source": [
    "df_csv=spark.read.format('csv').option('header','true').load('/FileStore/tables/customers.csv')"
   ]
  },
  {
   "cell_type": "code",
   "execution_count": 0,
   "metadata": {
    "application/vnd.databricks.v1+cell": {
     "cellMetadata": {
      "byteLimit": 2048000,
      "rowLimit": 10000
     },
     "inputWidgets": {},
     "nuid": "7526fc1b-c86c-4fb3-b07b-9af90e0c4f68",
     "showTitle": false,
     "tableResultSettingsMap": {},
     "title": ""
    }
   },
   "outputs": [
    {
     "output_type": "stream",
     "name": "stdout",
     "output_type": "stream",
     "text": [
      "+-----------+-----------+---------+-----------+-------+-----------------+---------+\n|customer_id|       name|     city|      state|country|registration_date|is_active|\n+-----------+-----------+---------+-----------+-------+-----------------+---------+\n|          0| Customer_0|     Pune|West Bengal|  India|       2023-10-10|     True|\n|          1| Customer_1|Bangalore|    Gujarat|  India|       2023-10-19|    False|\n|          2| Customer_2|Bangalore|  Karnataka|  India|       2023-02-10|     True|\n|          3| Customer_3|Bangalore|  Telangana|  India|       2023-03-24|     True|\n|          4| Customer_4|Hyderabad|  Telangana|  India|       2023-06-04|    False|\n|          5| Customer_5|Hyderabad|West Bengal|  India|       2023-07-26|     True|\n|          6| Customer_6|Hyderabad|  Karnataka|  India|       2023-08-07|    False|\n|          7| Customer_7|Bangalore|  Telangana|  India|       2023-08-25|     True|\n|          8| Customer_8|Bangalore|Maharashtra|  India|       2023-07-13|    False|\n|          9| Customer_9|Ahmedabad|      Delhi|  India|       2023-07-30|    False|\n|         10|Customer_10|  Chennai|    Gujarat|  India|       2023-01-14|    False|\n|         11|Customer_11|     Pune|West Bengal|  India|       2023-04-10|     True|\n|         12|Customer_12|    Delhi| Tamil Nadu|  India|       2023-06-20|     True|\n|         13|Customer_13|Ahmedabad|      Delhi|  India|       2023-11-09|     True|\n|         14|Customer_14|Ahmedabad|West Bengal|  India|       2023-02-18|     True|\n|         15|Customer_15|   Mumbai|  Telangana|  India|       2023-04-25|    False|\n|         16|Customer_16|    Delhi| Tamil Nadu|  India|       2023-04-25|    False|\n|         17|Customer_17|  Chennai|    Gujarat|  India|       2023-05-05|    False|\n|         18|Customer_18|Ahmedabad|    Gujarat|  India|       2023-08-06|     True|\n|         19|Customer_19|    Delhi|  Telangana|  India|       2023-04-27|     True|\n+-----------+-----------+---------+-----------+-------+-----------------+---------+\nonly showing top 20 rows\n\n"
     ]
    }
   ],
   "source": [
    "df_csv.show()"
   ]
  },
  {
   "cell_type": "code",
   "execution_count": 0,
   "metadata": {
    "application/vnd.databricks.v1+cell": {
     "cellMetadata": {
      "byteLimit": 2048000,
      "rowLimit": 10000
     },
     "inputWidgets": {},
     "nuid": "d775358b-3a6d-4f44-8965-1414ec50d8e3",
     "showTitle": false,
     "tableResultSettingsMap": {},
     "title": ""
    }
   },
   "outputs": [
    {
     "output_type": "stream",
     "name": "stdout",
     "output_type": "stream",
     "text": [
      "+--------+---------+-----------+\n|database|tableName|isTemporary|\n+--------+---------+-----------+\n| default|customers|      false|\n+--------+---------+-----------+\n\n"
     ]
    }
   ],
   "source": [
    "# Spark SQL\n",
    "\n",
    "spark.sql('show tables').show()"
   ]
  },
  {
   "cell_type": "code",
   "execution_count": 0,
   "metadata": {
    "application/vnd.databricks.v1+cell": {
     "cellMetadata": {
      "byteLimit": 2048000,
      "rowLimit": 10000
     },
     "inputWidgets": {},
     "nuid": "5cc0ab98-bf7b-4cb1-870b-8925c215e562",
     "showTitle": false,
     "tableResultSettingsMap": {},
     "title": ""
    }
   },
   "outputs": [
    {
     "output_type": "stream",
     "name": "stdout",
     "output_type": "stream",
     "text": [
      "+-----------+-------+-------+-----------------+---------+\n|customer_id|   name|   city|registration_date|is_active|\n+-----------+-------+-------+-----------------+---------+\n|          3|Charlie|Chennai|       2023-05-10|     true|\n|          1|  Alice| Mumbai|       2023-01-15|     true|\n+-----------+-------+-------+-----------------+---------+\n\n"
     ]
    }
   ],
   "source": [
    "df_sql=spark.sql('select * from customers where is_active=True')\n",
    "df_sql.show()"
   ]
  },
  {
   "cell_type": "code",
   "execution_count": 0,
   "metadata": {
    "application/vnd.databricks.v1+cell": {
     "cellMetadata": {
      "byteLimit": 2048000,
      "rowLimit": 10000
     },
     "inputWidgets": {},
     "nuid": "7e1e6ae2-b70d-44f5-973c-e6ca8a5fe7f0",
     "showTitle": false,
     "tableResultSettingsMap": {},
     "title": ""
    }
   },
   "outputs": [
    {
     "output_type": "stream",
     "name": "stdout",
     "output_type": "stream",
     "text": [
      "+-----------+-------+-------+-----------------+---------+\n|customer_id|   name|   city|registration_date|is_active|\n+-----------+-------+-------+-----------------+---------+\n|          3|Charlie|Chennai|       2023-05-10|     true|\n|          1|  Alice| Mumbai|       2023-01-15|     true|\n|          2|    Bob|  Delhi|       2023-03-25|    false|\n+-----------+-------+-------+-----------------+---------+\n\n"
     ]
    }
   ],
   "source": [
    "# Spark table\n",
    "\n",
    "df_table=spark.table('customers')\n",
    "df_table.show()"
   ]
  },
  {
   "cell_type": "code",
   "execution_count": 0,
   "metadata": {
    "application/vnd.databricks.v1+cell": {
     "cellMetadata": {
      "byteLimit": 2048000,
      "rowLimit": 10000
     },
     "inputWidgets": {},
     "nuid": "ff7e7469-b4bc-477c-b08c-940d4b3cc98b",
     "showTitle": false,
     "tableResultSettingsMap": {},
     "title": ""
    }
   },
   "outputs": [
    {
     "output_type": "stream",
     "name": "stdout",
     "output_type": "stream",
     "text": [
      "+---+\n| id|\n+---+\n|  0|\n|  1|\n|  2|\n|  3|\n|  4|\n|  5|\n|  6|\n|  7|\n|  8|\n|  9|\n+---+\n\n"
     ]
    }
   ],
   "source": [
    "# Spark range\n",
    "\n",
    "df_range=spark.range(0,10)\n",
    "df_range.show()"
   ]
  },
  {
   "cell_type": "code",
   "execution_count": 0,
   "metadata": {
    "application/vnd.databricks.v1+cell": {
     "cellMetadata": {
      "byteLimit": 2048000,
      "rowLimit": 10000
     },
     "inputWidgets": {},
     "nuid": "20b88939-8f04-48df-8afb-32079a30caa7",
     "showTitle": false,
     "tableResultSettingsMap": {},
     "title": ""
    }
   },
   "outputs": [
    {
     "output_type": "stream",
     "name": "stdout",
     "output_type": "stream",
     "text": [
      "+-----------+-------+-------+-----------------+---------+\n|customer_id|   name|   city|registration_date|is_active|\n+-----------+-------+-------+-----------------+---------+\n|          1|  Alice| Mumbai|       2023-01-15|     true|\n|          2|    Bob|  Delhi|       2023-03-25|    false|\n|          3|Charlie|Chennai|       2023-05-10|     true|\n+-----------+-------+-------+-----------------+---------+\n\n"
     ]
    }
   ],
   "source": [
    "# using create dataframe\n",
    "\n",
    "data=[\n",
    "    (1,\"Alice\",\"Mumbai\",\"2023-01-15\",True),\n",
    "    (2,\"Bob\",\"Delhi\",\"2023-03-25\",False),\n",
    "    (3,\"Charlie\",\"Chennai\",\"2023-05-10\",True)\n",
    "]\n",
    "\n",
    "columns=[\"customer_id\",\"name\",\"city\",\"registration_date\",\"is_active\"]\n",
    "\n",
    "df_list=spark.createDataFrame(data,columns)\n",
    "df_list.show()"
   ]
  },
  {
   "cell_type": "code",
   "execution_count": 0,
   "metadata": {
    "application/vnd.databricks.v1+cell": {
     "cellMetadata": {
      "byteLimit": 2048000,
      "rowLimit": 10000
     },
     "inputWidgets": {},
     "nuid": "0d7f7435-f11b-460e-a3ee-712eefe34d64",
     "showTitle": false,
     "tableResultSettingsMap": {},
     "title": ""
    }
   },
   "outputs": [
    {
     "output_type": "stream",
     "name": "stdout",
     "output_type": "stream",
     "text": [
      "Out[17]: [(1, 'Alice'), (2, 'Bob')]"
     ]
    }
   ],
   "source": [
    "# RDD ----> DF\n",
    "\n",
    "rdd=spark.sparkContext.parallelize([(1,\"Alice\"),(2,\"Bob\")])\n",
    "rdd.take(2)"
   ]
  },
  {
   "cell_type": "code",
   "execution_count": 0,
   "metadata": {
    "application/vnd.databricks.v1+cell": {
     "cellMetadata": {
      "byteLimit": 2048000,
      "rowLimit": 10000
     },
     "inputWidgets": {},
     "nuid": "ec0e3935-35d0-450e-b993-20c3e60f5456",
     "showTitle": false,
     "tableResultSettingsMap": {},
     "title": ""
    }
   },
   "outputs": [],
   "source": [
    "df_rdd=rdd.toDF([\"customer_id\",\"name\"])"
   ]
  },
  {
   "cell_type": "code",
   "execution_count": 0,
   "metadata": {
    "application/vnd.databricks.v1+cell": {
     "cellMetadata": {
      "byteLimit": 2048000,
      "rowLimit": 10000
     },
     "inputWidgets": {},
     "nuid": "b77e0c34-9368-4540-88d7-55cabcdaa54d",
     "showTitle": false,
     "tableResultSettingsMap": {},
     "title": ""
    }
   },
   "outputs": [
    {
     "output_type": "stream",
     "name": "stdout",
     "output_type": "stream",
     "text": [
      "+-----------+-----+\n|customer_id| name|\n+-----------+-----+\n|          1|Alice|\n|          2|  Bob|\n+-----------+-----+\n\n"
     ]
    }
   ],
   "source": [
    "df_rdd.show()"
   ]
  },
  {
   "cell_type": "code",
   "execution_count": 0,
   "metadata": {
    "application/vnd.databricks.v1+cell": {
     "cellMetadata": {},
     "inputWidgets": {},
     "nuid": "ab3a70dc-ee37-4cd1-9c3f-2b238285e1ae",
     "showTitle": false,
     "tableResultSettingsMap": {},
     "title": ""
    }
   },
   "outputs": [],
   "source": []
  }
 ],
 "metadata": {
  "application/vnd.databricks.v1+notebook": {
   "computePreferences": null,
   "dashboards": [],
   "environmentMetadata": {
    "base_environment": "",
    "environment_version": "1"
   },
   "inputWidgetPreferences": null,
   "language": "python",
   "notebookMetadata": {
    "pythonIndentUnit": 4
   },
   "notebookName": "Creating DataFrame in Spark",
   "widgets": {}
  }
 },
 "nbformat": 4,
 "nbformat_minor": 0
}